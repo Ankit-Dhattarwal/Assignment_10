{
 "cells": [
  {
   "cell_type": "markdown",
   "id": "e3975f24-407d-428a-919a-6aa875524119",
   "metadata": {},
   "source": [
    "### Q.1> Which function is used to open a file? What are the different modes of opening a file? Explain each mode of file opening."
   ]
  },
  {
   "cell_type": "markdown",
   "id": "88c86d4b-a57c-49fe-8946-ca949bfd0570",
   "metadata": {},
   "source": [
    "#### ANSWER"
   ]
  },
  {
   "cell_type": "markdown",
   "id": "7c125017-7e51-47ee-9add-9adb5eefade0",
   "metadata": {},
   "source": [
    "##### The open() function is used to open a file in Python. It takes two arguments: the name of the file to be opened, and the mode in which the file is to be opened."
   ]
  },
  {
   "cell_type": "markdown",
   "id": "f3821f18-498f-47de-89f7-c7985061a7a3",
   "metadata": {},
   "source": [
    "##### The different modes in which a file can be opened are:\n",
    "\n",
    "##### 'r': Read mode. This mode is used to open a file for reading only. If the file does not exist, it will raise a FileNotFoundError.\n",
    "\n",
    "##### 'w': Write mode. This mode is used to open a file for writing only. If the file does not exist, it will be created. If the file already exists, it will be truncated to zero length.\n",
    "\n",
    "##### 'a': Append mode. This mode is used to open a file for appending new data to the end of the file. If the file does not exist, it will be created.\n",
    "\n",
    "##### 'x': Exclusive mode. This mode is used to create a new file and open it for writing only. If the file already exists, it will raise a FileExistsError.\n",
    "\n",
    "##### 'b': Binary mode. This mode is used to open a file in binary mode.\n",
    "\n",
    "##### 't': Text mode. This mode is used to open a file in text mode. This is the default mode."
   ]
  },
  {
   "cell_type": "markdown",
   "id": "c073c489-1391-4278-8441-8975a1dee4ef",
   "metadata": {},
   "source": [
    "### Q.2> Why close() function is used? Why is it important to close a file?"
   ]
  },
  {
   "cell_type": "markdown",
   "id": "62198840-78de-4af0-a8e2-5a6d02db25b2",
   "metadata": {},
   "source": [
    "#### ANSWER"
   ]
  },
  {
   "cell_type": "markdown",
   "id": "e1325577-5b04-4e5d-a5e8-69a1ce8b3f0c",
   "metadata": {},
   "source": [
    "##### In Python, the close() function is used to close an open file. It is important to close a file after it has been opened for several reasons:\n",
    "\n",
    "##### Release system resources: When a file is opened, the operating system assigns system resources to manage the file, such as memory buffers and file descriptors. When the file is no longer needed, it's important to release those resources. If too many files are left open without being closed, it can cause problems like memory leaks and system crashes.\n",
    "\n",
    "##### Flush data to disk: Some file operations are buffered, which means that data is not immediately written to disk. Instead, the data is stored in memory until a buffer is full or the file is closed. If the file is not closed, there is a chance that data can be lost if the program crashes or is terminated unexpectedly.\n",
    "\n",
    "##### Prevent file corruption: If a file is not closed properly, the file's data can become corrupted, making it unreadable or unusable. For example, if a program is writing data to a file and the program is terminated abruptly, the data being written might be incomplete, resulting in corrupted data.\n",
    "\n",
    "##### Closing a file is particularly important when you are writing to a file, because failing to close the file can result in incomplete data being written. In general, it is good practice to always close a file as soon as it is no longer needed, so that you don't run into issues with resource leaks, data corruption, or lost data. In Python, it's also a good practice to use the with statement to automatically close the file when the block is exited."
   ]
  },
  {
   "cell_type": "markdown",
   "id": "7b0a9c7a-668c-4c05-ba02-c63f85c59403",
   "metadata": {},
   "source": [
    "### Q.3> Write a python program to create a text file. Write ‘I want to become a Data Scientist’ in that file. Then close the file. Open this file and read the content of the file."
   ]
  },
  {
   "cell_type": "markdown",
   "id": "1d01c097-c16d-4ceb-b75f-2ac492a2205f",
   "metadata": {},
   "source": [
    "#### ANSWER"
   ]
  },
  {
   "cell_type": "code",
   "execution_count": 1,
   "id": "c5acde78-ad41-4ec1-8606-442e72674f73",
   "metadata": {},
   "outputs": [
    {
     "name": "stdout",
     "output_type": "stream",
     "text": [
      "I want to become a Data Scientist\n"
     ]
    }
   ],
   "source": [
    "with open('data_scientist.txt', 'w') as file:\n",
    "    file.write('I want to become a Data Scientist')\n",
    "\n",
    "# Open the file in read mode\n",
    "with open('data_scientist.txt', 'r') as file:\n",
    "    content = file.read()\n",
    "\n",
    "# Print the content of the file\n",
    "print(content)\n"
   ]
  },
  {
   "cell_type": "markdown",
   "id": "89851bd5-7b02-4f00-ac3f-f7112bc036be",
   "metadata": {},
   "source": [
    "### Q.4> Explain the following with python code: read(), readline() and readlines()."
   ]
  },
  {
   "cell_type": "markdown",
   "id": "8377de81-5852-460f-9763-c0d264186caa",
   "metadata": {},
   "source": [
    "#### ANSWER"
   ]
  },
  {
   "cell_type": "markdown",
   "id": "b2519c29-6cdf-4f1d-ba8f-d16094633cdf",
   "metadata": {},
   "source": [
    "##### read(): This method reads the entire contents of the file into a single string. It takes an optional argument, which specifies the number of bytes to read. If no argument is specified, the entire file is read.\n"
   ]
  },
  {
   "cell_type": "code",
   "execution_count": null,
   "id": "e8908547-b8fc-477a-a8b4-e792970c984c",
   "metadata": {},
   "outputs": [],
   "source": [
    "# Open the file in read mode\n",
    "with open('file.txt', 'r') as file:\n",
    "    # Read the entire contents of the file into a string\n",
    "    content = file.read()\n",
    "\n",
    "# Print the content of the file\n",
    "print(content)\n"
   ]
  },
  {
   "cell_type": "markdown",
   "id": "f5289f82-4f2d-4373-8215-f9db6322e17e",
   "metadata": {},
   "source": [
    "##### readline(): This method reads a single line from the file and returns it as a string. It reads up to the first newline character ('\\n') in the file. If it reaches the end of the file before finding a newline character, it returns the rest of the file as a single string. "
   ]
  },
  {
   "cell_type": "code",
   "execution_count": null,
   "id": "2dc6e31e-7d16-47e6-bc6a-858d3479ae2f",
   "metadata": {},
   "outputs": [],
   "source": [
    "# Open the file in read mode\n",
    "with open('file.txt', 'r') as file:\n",
    "    # Read the first line of the file\n",
    "    line1 = file.readline()\n",
    "\n",
    "    # Read the second line of the file\n",
    "    line2 = file.readline()\n",
    "\n",
    "# Print the first and second lines of the file\n",
    "print(line1)\n",
    "print(line2)\n"
   ]
  },
  {
   "cell_type": "markdown",
   "id": "dd11d56d-1de5-4a5c-96f5-e571aae7c8df",
   "metadata": {},
   "source": [
    "##### readlines(): This method reads all the lines of the file and returns them as a list of strings. Each element in the list is a string that corresponds to a single line in the file. "
   ]
  },
  {
   "cell_type": "markdown",
   "id": "5107352e-d01c-486f-ae76-a9c38702ba4a",
   "metadata": {},
   "source": [
    "### Q.5> Explain why with statement is used with open(). What is the advantage of using with statement and open() together?"
   ]
  },
  {
   "cell_type": "markdown",
   "id": "22823fb1-e3e5-4974-80b1-997a3de5e705",
   "metadata": {},
   "source": [
    "#### ANSWER"
   ]
  },
  {
   "cell_type": "markdown",
   "id": "977d2ac7-362c-4cc6-8cd1-a33db2e97d81",
   "metadata": {},
   "source": [
    "##### The with statement is used with open() in Python to handle file I/O operations. The advantage of using the with statement with open() is that it ensures that the file is properly closed after the block inside the with statement is executed. The with statement provides a way for the file object to be automatically closed at the end of the block."
   ]
  },
  {
   "cell_type": "markdown",
   "id": "5901968e-a530-4f6f-bcb8-8fbbc90d5976",
   "metadata": {},
   "source": [
    "##### The advantage of using with and open() together is that it eliminates the need for the programmer to explicitly close the file. If a file is not closed properly, it can result in data corruption or loss. Using the with statement ensures that the file is always closed properly, even if there is an error or exception that occurs inside the block."
   ]
  },
  {
   "cell_type": "markdown",
   "id": "08279a9a-629b-4ffc-bad0-94babfd7c2f1",
   "metadata": {},
   "source": [
    "### Q.6> Explain the write() and writelines() functions. Give a suitable example."
   ]
  },
  {
   "cell_type": "markdown",
   "id": "0484ead2-8116-4138-8307-7db0eabcae3b",
   "metadata": {},
   "source": [
    "#### ANSWER"
   ]
  },
  {
   "cell_type": "code",
   "execution_count": null,
   "id": "6f83ec9b-02b0-4865-ae3f-8660369ec33d",
   "metadata": {},
   "outputs": [],
   "source": [
    "##### In Python, the write() function is used to write a string to a file, while the writelines() function is used to write a list of strings to a file. Both functions are used for writing data to a file in write or append mode.\n",
    "\n",
    "The write() function takes a string as an argument and writes it to the file. If the file does not exist, it will be created. If it already exists, the function will overwrite the existing content of the file."
   ]
  }
 ],
 "metadata": {
  "kernelspec": {
   "display_name": "Python 3 (ipykernel)",
   "language": "python",
   "name": "python3"
  },
  "language_info": {
   "codemirror_mode": {
    "name": "ipython",
    "version": 3
   },
   "file_extension": ".py",
   "mimetype": "text/x-python",
   "name": "python",
   "nbconvert_exporter": "python",
   "pygments_lexer": "ipython3",
   "version": "3.10.8"
  }
 },
 "nbformat": 4,
 "nbformat_minor": 5
}
